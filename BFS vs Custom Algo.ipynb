{
 "cells": [
  {
   "cell_type": "code",
   "execution_count": 3,
   "id": "0e91576d",
   "metadata": {},
   "outputs": [],
   "source": [
    "import numpy as np\n",
    "from collections import deque\n",
    "\n",
    "def generate_shapes_bfs(width, height, num_shapes):\n",
    "    matrix = np.zeros((height, width), dtype=int)\n",
    "    directions = [(0, 1), (1, 0), (0, -1), (-1, 0)]  \n",
    "\n",
    "    def is_valid(x, y):\n",
    "        return 0 <= x < width and 0 <= y < height\n",
    "\n",
    "    for shape_id in range(1, num_shapes + 1):\n",
    "    \n",
    "        while True:\n",
    "            x, y = np.random.randint(width), np.random.randint(height)\n",
    "            if matrix[y, x] == 0:\n",
    "                matrix[y, x] = shape_id\n",
    "                break\n",
    "\n",
    "    \n",
    "        queue = deque([(x, y)])\n",
    "\n",
    "        shape_size = np.random.randint(1, 5)\n",
    "        while len(queue) > 0 and shape_size > 0:\n",
    "            cx, cy = queue.popleft()\n",
    "            for dx, dy in directions:\n",
    "                nx, ny = cx + dx, cy + dy\n",
    "                if is_valid(nx, ny) and matrix[ny, nx] == 0:\n",
    "                    matrix[ny, nx] = shape_id\n",
    "                    queue.append((nx, ny))\n",
    "                    shape_size -= 1\n",
    "\n",
    "    return matrix\n"
   ]
  },
  {
   "cell_type": "code",
   "execution_count": 9,
   "id": "b97651d1",
   "metadata": {},
   "outputs": [
    {
     "name": "stdout",
     "output_type": "stream",
     "text": [
      "Execution time: 0.012303829193115234 seconds\n"
     ]
    }
   ],
   "source": [
    "import numpy as np\n",
    "import time\n",
    "\n",
    "width = 1000\n",
    "height = 1000\n",
    "num_shapes = 228\n",
    "\n",
    "\n",
    "start_time = time.time()\n",
    "result_matrix = generate_shapes_bfs(width, height, num_shapes)\n",
    "end_time = time.time()\n",
    "\n",
    "execution_time = end_time - start_time\n",
    "print(f\"Execution time: {execution_time} seconds\")\n"
   ]
  },
  {
   "cell_type": "code",
   "execution_count": 11,
   "id": "2daa62a7",
   "metadata": {},
   "outputs": [],
   "source": [
    "def generate_shapes(width, height, num_shapes):\n",
    "    matrix = np.zeros((height, width), dtype=int)\n",
    "    directions = [(0, 1), (1, 0), (0, -1), (-1, 0)]  # Right, Down, Left, Up\n",
    "\n",
    "    for shape_id in range(1, num_shapes + 1):\n",
    "        # Start with a single seed point\n",
    "        while True:\n",
    "            x, y = np.random.randint(width), np.random.randint(height)\n",
    "            if matrix[y, x] == 0:\n",
    "                matrix[y, x] = shape_id\n",
    "                break\n",
    "\n",
    "        # Determine the shape size randomly\n",
    "        shape_size = np.random.randint(2, 8)\n",
    "\n",
    "        for _ in range(shape_size):\n",
    "            np.random.shuffle(directions)  # Randomize directions\n",
    "            for dx, dy in directions:\n",
    "                nx, ny = x + dx, y + dy\n",
    "                if 0 <= nx < width and 0 <= ny < height and matrix[ny, nx] == 0:\n",
    "                    x, y = nx, ny  # Move to the new position\n",
    "                    matrix[y, x] = shape_id\n",
    "                    break\n",
    "\n",
    "        # Ensure at least two shapes touch\n",
    "        if shape_id == 1:  # First shape created\n",
    "            touch_point_x, touch_point_y = x, y\n",
    "\n",
    "        if shape_id == 2:  # Create second shape close to the first\n",
    "            matrix[touch_point_y, touch_point_x] = shape_id\n",
    "\n",
    "        # Ensure at least one shape is not a straight line\n",
    "        if shape_id == 3 and shape_size > 1:\n",
    "            # Add an additional point in a different direction for the third shape\n",
    "            for dx, dy in directions:\n",
    "                additional_x, additional_y = x + dx, y + dy\n",
    "                if 0 <= additional_x < width and 0 <= additional_y < height and matrix[additional_y, additional_x] == 0:\n",
    "                    matrix[additional_y, additional_x] = shape_id\n",
    "                    break\n",
    "\n",
    "    return matrix"
   ]
  },
  {
   "cell_type": "code",
   "execution_count": 12,
   "id": "00c86a26",
   "metadata": {},
   "outputs": [
    {
     "name": "stdout",
     "output_type": "stream",
     "text": [
      "Execution time: 0.01320505142211914 seconds\n"
     ]
    }
   ],
   "source": [
    "import numpy as np\n",
    "import time\n",
    "\n",
    "# Define the generate_shapes_bfs function here\n",
    "\n",
    "# Define the matrix size and number of shapes\n",
    "width = 1000\n",
    "height = 1000\n",
    "num_shapes = 228\n",
    "\n",
    "# Measure the execution time\n",
    "start_time = time.time()\n",
    "result_matrix = generate_shapes(width, height, num_shapes)\n",
    "end_time = time.time()\n",
    "\n",
    "# Calculate and print the execution time\n",
    "execution_time = end_time - start_time\n",
    "print(f\"Execution time: {execution_time} seconds\")"
   ]
  },
  {
   "cell_type": "code",
   "execution_count": null,
   "id": "dca6c8b5",
   "metadata": {},
   "outputs": [],
   "source": []
  }
 ],
 "metadata": {
  "kernelspec": {
   "display_name": "Python 3 (ipykernel)",
   "language": "python",
   "name": "python3"
  },
  "language_info": {
   "codemirror_mode": {
    "name": "ipython",
    "version": 3
   },
   "file_extension": ".py",
   "mimetype": "text/x-python",
   "name": "python",
   "nbconvert_exporter": "python",
   "pygments_lexer": "ipython3",
   "version": "3.9.16"
  }
 },
 "nbformat": 4,
 "nbformat_minor": 5
}
